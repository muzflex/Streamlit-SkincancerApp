{
  "nbformat": 4,
  "nbformat_minor": 0,
  "metadata": {
    "colab": {
      "name": "Streamlit.ipynb",
      "provenance": [],
      "collapsed_sections": [],
      "authorship_tag": "ABX9TyMUJ3QbbiT+BPVikBwIIDj5",
      "include_colab_link": true
    },
    "kernelspec": {
      "name": "python3",
      "display_name": "Python 3"
    }
  },
  "cells": [
    {
      "cell_type": "markdown",
      "metadata": {
        "id": "view-in-github",
        "colab_type": "text"
      },
      "source": [
        "<a href=\"https://colab.research.google.com/github/muzflex/Streamlit-SkincancerApp/blob/main/Streamlit.ipynb\" target=\"_parent\"><img src=\"https://colab.research.google.com/assets/colab-badge.svg\" alt=\"Open In Colab\"/></a>"
      ]
    },
    {
      "cell_type": "code",
      "metadata": {
        "id": "OJjq5FCM041y",
        "outputId": "52eac80c-b725-48af-b4b6-764b60f7067d",
        "colab": {
          "base_uri": "https://localhost:8080/",
          "height": 1000
        }
      },
      "source": [
        "!pip install streamlit"
      ],
      "execution_count": 26,
      "outputs": [
        {
          "output_type": "stream",
          "text": [
            "Requirement already satisfied: streamlit in /usr/local/lib/python3.6/dist-packages (0.69.1)\n",
            "Requirement already satisfied: protobuf>=3.6.0 in /usr/local/lib/python3.6/dist-packages (from streamlit) (3.12.4)\n",
            "Requirement already satisfied: gitpython in /usr/local/lib/python3.6/dist-packages (from streamlit) (3.1.9)\n",
            "Requirement already satisfied: click>=7.0 in /usr/local/lib/python3.6/dist-packages (from streamlit) (7.1.2)\n",
            "Requirement already satisfied: pandas>=0.21.0 in /usr/local/lib/python3.6/dist-packages (from streamlit) (1.1.2)\n",
            "Requirement already satisfied: numpy in /usr/local/lib/python3.6/dist-packages (from streamlit) (1.18.5)\n",
            "Requirement already satisfied: requests in /usr/local/lib/python3.6/dist-packages (from streamlit) (2.23.0)\n",
            "Requirement already satisfied: packaging in /usr/local/lib/python3.6/dist-packages (from streamlit) (20.4)\n",
            "Requirement already satisfied: botocore>=1.13.44 in /usr/local/lib/python3.6/dist-packages (from streamlit) (1.18.16)\n",
            "Requirement already satisfied: tzlocal in /usr/local/lib/python3.6/dist-packages (from streamlit) (1.5.1)\n",
            "Requirement already satisfied: pillow>=6.2.0 in /usr/local/lib/python3.6/dist-packages (from streamlit) (7.0.0)\n",
            "Requirement already satisfied: astor in /usr/local/lib/python3.6/dist-packages (from streamlit) (0.8.1)\n",
            "Requirement already satisfied: enum-compat in /usr/local/lib/python3.6/dist-packages (from streamlit) (0.0.3)\n",
            "Requirement already satisfied: python-dateutil in /usr/local/lib/python3.6/dist-packages (from streamlit) (2.8.1)\n",
            "Requirement already satisfied: pydeck>=0.1.dev5 in /usr/local/lib/python3.6/dist-packages (from streamlit) (0.5.0b1)\n",
            "Requirement already satisfied: base58 in /usr/local/lib/python3.6/dist-packages (from streamlit) (2.0.1)\n",
            "Requirement already satisfied: blinker in /usr/local/lib/python3.6/dist-packages (from streamlit) (1.4)\n",
            "Requirement already satisfied: pyarrow in /usr/local/lib/python3.6/dist-packages (from streamlit) (0.14.1)\n",
            "Requirement already satisfied: boto3 in /usr/local/lib/python3.6/dist-packages (from streamlit) (1.15.16)\n",
            "Requirement already satisfied: validators in /usr/local/lib/python3.6/dist-packages (from streamlit) (0.18.1)\n",
            "Requirement already satisfied: watchdog in /usr/local/lib/python3.6/dist-packages (from streamlit) (0.10.3)\n",
            "Requirement already satisfied: tornado>=5.0 in /usr/local/lib/python3.6/dist-packages (from streamlit) (5.1.1)\n",
            "Requirement already satisfied: altair>=3.2.0 in /usr/local/lib/python3.6/dist-packages (from streamlit) (4.1.0)\n",
            "Requirement already satisfied: cachetools>=4.0 in /usr/local/lib/python3.6/dist-packages (from streamlit) (4.1.1)\n",
            "Requirement already satisfied: toml in /usr/local/lib/python3.6/dist-packages (from streamlit) (0.10.1)\n",
            "Requirement already satisfied: six>=1.9 in /usr/local/lib/python3.6/dist-packages (from protobuf>=3.6.0->streamlit) (1.15.0)\n",
            "Requirement already satisfied: setuptools in /usr/local/lib/python3.6/dist-packages (from protobuf>=3.6.0->streamlit) (50.3.0)\n",
            "Requirement already satisfied: gitdb<5,>=4.0.1 in /usr/local/lib/python3.6/dist-packages (from gitpython->streamlit) (4.0.5)\n",
            "Requirement already satisfied: pytz>=2017.2 in /usr/local/lib/python3.6/dist-packages (from pandas>=0.21.0->streamlit) (2018.9)\n",
            "Requirement already satisfied: certifi>=2017.4.17 in /usr/local/lib/python3.6/dist-packages (from requests->streamlit) (2020.6.20)\n",
            "Requirement already satisfied: chardet<4,>=3.0.2 in /usr/local/lib/python3.6/dist-packages (from requests->streamlit) (3.0.4)\n",
            "Requirement already satisfied: idna<3,>=2.5 in /usr/local/lib/python3.6/dist-packages (from requests->streamlit) (2.10)\n",
            "Requirement already satisfied: urllib3!=1.25.0,!=1.25.1,<1.26,>=1.21.1 in /usr/local/lib/python3.6/dist-packages (from requests->streamlit) (1.24.3)\n",
            "Requirement already satisfied: pyparsing>=2.0.2 in /usr/local/lib/python3.6/dist-packages (from packaging->streamlit) (2.4.7)\n",
            "Requirement already satisfied: jmespath<1.0.0,>=0.7.1 in /usr/local/lib/python3.6/dist-packages (from botocore>=1.13.44->streamlit) (0.10.0)\n",
            "Requirement already satisfied: jinja2>=2.10.1 in /usr/local/lib/python3.6/dist-packages (from pydeck>=0.1.dev5->streamlit) (2.11.2)\n",
            "Requirement already satisfied: ipywidgets>=7.0.0 in /usr/local/lib/python3.6/dist-packages (from pydeck>=0.1.dev5->streamlit) (7.5.1)\n",
            "Requirement already satisfied: traitlets>=4.3.2 in /usr/local/lib/python3.6/dist-packages (from pydeck>=0.1.dev5->streamlit) (4.3.3)\n",
            "Requirement already satisfied: ipykernel>=5.1.2; python_version >= \"3.4\" in /usr/local/lib/python3.6/dist-packages (from pydeck>=0.1.dev5->streamlit) (5.3.4)\n",
            "Requirement already satisfied: s3transfer<0.4.0,>=0.3.0 in /usr/local/lib/python3.6/dist-packages (from boto3->streamlit) (0.3.3)\n",
            "Requirement already satisfied: decorator>=3.4.0 in /usr/local/lib/python3.6/dist-packages (from validators->streamlit) (4.4.2)\n",
            "Requirement already satisfied: pathtools>=0.1.1 in /usr/local/lib/python3.6/dist-packages (from watchdog->streamlit) (0.1.2)\n",
            "Requirement already satisfied: toolz in /usr/local/lib/python3.6/dist-packages (from altair>=3.2.0->streamlit) (0.11.1)\n",
            "Requirement already satisfied: jsonschema in /usr/local/lib/python3.6/dist-packages (from altair>=3.2.0->streamlit) (2.6.0)\n",
            "Requirement already satisfied: entrypoints in /usr/local/lib/python3.6/dist-packages (from altair>=3.2.0->streamlit) (0.3)\n",
            "Requirement already satisfied: smmap<4,>=3.0.1 in /usr/local/lib/python3.6/dist-packages (from gitdb<5,>=4.0.1->gitpython->streamlit) (3.0.4)\n",
            "Requirement already satisfied: MarkupSafe>=0.23 in /usr/local/lib/python3.6/dist-packages (from jinja2>=2.10.1->pydeck>=0.1.dev5->streamlit) (1.1.1)\n",
            "Requirement already satisfied: ipython>=4.0.0; python_version >= \"3.3\" in /usr/local/lib/python3.6/dist-packages (from ipywidgets>=7.0.0->pydeck>=0.1.dev5->streamlit) (5.5.0)\n",
            "Requirement already satisfied: nbformat>=4.2.0 in /usr/local/lib/python3.6/dist-packages (from ipywidgets>=7.0.0->pydeck>=0.1.dev5->streamlit) (5.0.7)\n",
            "Requirement already satisfied: widgetsnbextension~=3.5.0 in /usr/local/lib/python3.6/dist-packages (from ipywidgets>=7.0.0->pydeck>=0.1.dev5->streamlit) (3.5.1)\n",
            "Requirement already satisfied: ipython-genutils in /usr/local/lib/python3.6/dist-packages (from traitlets>=4.3.2->pydeck>=0.1.dev5->streamlit) (0.2.0)\n",
            "Requirement already satisfied: jupyter-client in /usr/local/lib/python3.6/dist-packages (from ipykernel>=5.1.2; python_version >= \"3.4\"->pydeck>=0.1.dev5->streamlit) (5.3.5)\n",
            "Requirement already satisfied: pygments in /usr/local/lib/python3.6/dist-packages (from ipython>=4.0.0; python_version >= \"3.3\"->ipywidgets>=7.0.0->pydeck>=0.1.dev5->streamlit) (2.6.1)\n",
            "Requirement already satisfied: pickleshare in /usr/local/lib/python3.6/dist-packages (from ipython>=4.0.0; python_version >= \"3.3\"->ipywidgets>=7.0.0->pydeck>=0.1.dev5->streamlit) (0.7.5)\n",
            "Requirement already satisfied: prompt-toolkit<2.0.0,>=1.0.4 in /usr/local/lib/python3.6/dist-packages (from ipython>=4.0.0; python_version >= \"3.3\"->ipywidgets>=7.0.0->pydeck>=0.1.dev5->streamlit) (1.0.18)\n",
            "Requirement already satisfied: simplegeneric>0.8 in /usr/local/lib/python3.6/dist-packages (from ipython>=4.0.0; python_version >= \"3.3\"->ipywidgets>=7.0.0->pydeck>=0.1.dev5->streamlit) (0.8.1)\n",
            "Requirement already satisfied: pexpect; sys_platform != \"win32\" in /usr/local/lib/python3.6/dist-packages (from ipython>=4.0.0; python_version >= \"3.3\"->ipywidgets>=7.0.0->pydeck>=0.1.dev5->streamlit) (4.8.0)\n",
            "Requirement already satisfied: jupyter-core in /usr/local/lib/python3.6/dist-packages (from nbformat>=4.2.0->ipywidgets>=7.0.0->pydeck>=0.1.dev5->streamlit) (4.6.3)\n",
            "Requirement already satisfied: notebook>=4.4.1 in /usr/local/lib/python3.6/dist-packages (from widgetsnbextension~=3.5.0->ipywidgets>=7.0.0->pydeck>=0.1.dev5->streamlit) (5.3.1)\n",
            "Requirement already satisfied: pyzmq>=13 in /usr/local/lib/python3.6/dist-packages (from jupyter-client->ipykernel>=5.1.2; python_version >= \"3.4\"->pydeck>=0.1.dev5->streamlit) (19.0.2)\n",
            "Requirement already satisfied: wcwidth in /usr/local/lib/python3.6/dist-packages (from prompt-toolkit<2.0.0,>=1.0.4->ipython>=4.0.0; python_version >= \"3.3\"->ipywidgets>=7.0.0->pydeck>=0.1.dev5->streamlit) (0.2.5)\n",
            "Requirement already satisfied: ptyprocess>=0.5 in /usr/local/lib/python3.6/dist-packages (from pexpect; sys_platform != \"win32\"->ipython>=4.0.0; python_version >= \"3.3\"->ipywidgets>=7.0.0->pydeck>=0.1.dev5->streamlit) (0.6.0)\n",
            "Requirement already satisfied: nbconvert in /usr/local/lib/python3.6/dist-packages (from notebook>=4.4.1->widgetsnbextension~=3.5.0->ipywidgets>=7.0.0->pydeck>=0.1.dev5->streamlit) (5.6.1)\n",
            "Requirement already satisfied: terminado>=0.8.1 in /usr/local/lib/python3.6/dist-packages (from notebook>=4.4.1->widgetsnbextension~=3.5.0->ipywidgets>=7.0.0->pydeck>=0.1.dev5->streamlit) (0.9.1)\n",
            "Requirement already satisfied: Send2Trash in /usr/local/lib/python3.6/dist-packages (from notebook>=4.4.1->widgetsnbextension~=3.5.0->ipywidgets>=7.0.0->pydeck>=0.1.dev5->streamlit) (1.5.0)\n",
            "Requirement already satisfied: defusedxml in /usr/local/lib/python3.6/dist-packages (from nbconvert->notebook>=4.4.1->widgetsnbextension~=3.5.0->ipywidgets>=7.0.0->pydeck>=0.1.dev5->streamlit) (0.6.0)\n",
            "Requirement already satisfied: pandocfilters>=1.4.1 in /usr/local/lib/python3.6/dist-packages (from nbconvert->notebook>=4.4.1->widgetsnbextension~=3.5.0->ipywidgets>=7.0.0->pydeck>=0.1.dev5->streamlit) (1.4.2)\n",
            "Requirement already satisfied: bleach in /usr/local/lib/python3.6/dist-packages (from nbconvert->notebook>=4.4.1->widgetsnbextension~=3.5.0->ipywidgets>=7.0.0->pydeck>=0.1.dev5->streamlit) (3.2.1)\n",
            "Requirement already satisfied: testpath in /usr/local/lib/python3.6/dist-packages (from nbconvert->notebook>=4.4.1->widgetsnbextension~=3.5.0->ipywidgets>=7.0.0->pydeck>=0.1.dev5->streamlit) (0.4.4)\n",
            "Requirement already satisfied: mistune<2,>=0.8.1 in /usr/local/lib/python3.6/dist-packages (from nbconvert->notebook>=4.4.1->widgetsnbextension~=3.5.0->ipywidgets>=7.0.0->pydeck>=0.1.dev5->streamlit) (0.8.4)\n",
            "Requirement already satisfied: webencodings in /usr/local/lib/python3.6/dist-packages (from bleach->nbconvert->notebook>=4.4.1->widgetsnbextension~=3.5.0->ipywidgets>=7.0.0->pydeck>=0.1.dev5->streamlit) (0.5.1)\n"
          ],
          "name": "stdout"
        }
      ]
    },
    {
      "cell_type": "code",
      "metadata": {
        "id": "CTpBBUplf46R",
        "outputId": "9f2295be-863d-4707-fbb3-77e40b72039c",
        "colab": {
          "base_uri": "https://localhost:8080/",
          "height": 68
        }
      },
      "source": [
        "!pip install pyngrok"
      ],
      "execution_count": 31,
      "outputs": [
        {
          "output_type": "stream",
          "text": [
            "Requirement already satisfied: pyngrok in /usr/local/lib/python3.6/dist-packages (4.2.2)\n",
            "Requirement already satisfied: PyYAML in /usr/local/lib/python3.6/dist-packages (from pyngrok) (3.13)\n",
            "Requirement already satisfied: future in /usr/local/lib/python3.6/dist-packages (from pyngrok) (0.16.0)\n"
          ],
          "name": "stdout"
        }
      ]
    },
    {
      "cell_type": "code",
      "metadata": {
        "id": "xAT78a-FsC_t",
        "outputId": "e32a5107-ce54-4285-fde9-9d54df722485",
        "colab": {
          "base_uri": "https://localhost:8080/",
          "height": 51
        }
      },
      "source": [
        "!pip install streamlit.components"
      ],
      "execution_count": 41,
      "outputs": [
        {
          "output_type": "stream",
          "text": [
            "\u001b[31mERROR: Could not find a version that satisfies the requirement streamlit.components (from versions: none)\u001b[0m\n",
            "\u001b[31mERROR: No matching distribution found for streamlit.components\u001b[0m\n"
          ],
          "name": "stdout"
        }
      ]
    },
    {
      "cell_type": "code",
      "metadata": {
        "id": "nL0CjO03AsJd",
        "outputId": "2375a157-24a6-4d11-92bd-e37bc37d6fb3",
        "colab": {
          "base_uri": "https://localhost:8080/",
          "height": 309
        }
      },
      "source": [
        "!pip install sweetviz"
      ],
      "execution_count": 27,
      "outputs": [
        {
          "output_type": "stream",
          "text": [
            "Requirement already satisfied: sweetviz in /usr/local/lib/python3.6/dist-packages (1.0b6)\n",
            "Requirement already satisfied: importlib-resources>=1.2.0 in /usr/local/lib/python3.6/dist-packages (from sweetviz) (3.0.0)\n",
            "Requirement already satisfied: scipy>=1.3.2 in /usr/local/lib/python3.6/dist-packages (from sweetviz) (1.4.1)\n",
            "Requirement already satisfied: tqdm>=4.43.0 in /usr/local/lib/python3.6/dist-packages (from sweetviz) (4.50.2)\n",
            "Requirement already satisfied: jinja2>=2.11.1 in /usr/local/lib/python3.6/dist-packages (from sweetviz) (2.11.2)\n",
            "Requirement already satisfied: pandas!=1.0.0,!=1.0.1,!=1.0.2,>=0.25.3 in /usr/local/lib/python3.6/dist-packages (from sweetviz) (1.1.2)\n",
            "Requirement already satisfied: matplotlib>=3.1.3 in /usr/local/lib/python3.6/dist-packages (from sweetviz) (3.2.2)\n",
            "Requirement already satisfied: numpy>=1.16.0 in /usr/local/lib/python3.6/dist-packages (from sweetviz) (1.18.5)\n",
            "Requirement already satisfied: zipp>=0.4; python_version < \"3.8\" in /usr/local/lib/python3.6/dist-packages (from importlib-resources>=1.2.0->sweetviz) (3.2.0)\n",
            "Requirement already satisfied: MarkupSafe>=0.23 in /usr/local/lib/python3.6/dist-packages (from jinja2>=2.11.1->sweetviz) (1.1.1)\n",
            "Requirement already satisfied: python-dateutil>=2.7.3 in /usr/local/lib/python3.6/dist-packages (from pandas!=1.0.0,!=1.0.1,!=1.0.2,>=0.25.3->sweetviz) (2.8.1)\n",
            "Requirement already satisfied: pytz>=2017.2 in /usr/local/lib/python3.6/dist-packages (from pandas!=1.0.0,!=1.0.1,!=1.0.2,>=0.25.3->sweetviz) (2018.9)\n",
            "Requirement already satisfied: cycler>=0.10 in /usr/local/lib/python3.6/dist-packages (from matplotlib>=3.1.3->sweetviz) (0.10.0)\n",
            "Requirement already satisfied: kiwisolver>=1.0.1 in /usr/local/lib/python3.6/dist-packages (from matplotlib>=3.1.3->sweetviz) (1.2.0)\n",
            "Requirement already satisfied: pyparsing!=2.0.4,!=2.1.2,!=2.1.6,>=2.0.1 in /usr/local/lib/python3.6/dist-packages (from matplotlib>=3.1.3->sweetviz) (2.4.7)\n",
            "Requirement already satisfied: six>=1.5 in /usr/local/lib/python3.6/dist-packages (from python-dateutil>=2.7.3->pandas!=1.0.0,!=1.0.1,!=1.0.2,>=0.25.3->sweetviz) (1.15.0)\n"
          ],
          "name": "stdout"
        }
      ]
    },
    {
      "cell_type": "code",
      "metadata": {
        "id": "vBCTZY5-AsCG",
        "outputId": "d711e01c-effc-4de0-c319-2392e9e7b490",
        "colab": {
          "base_uri": "https://localhost:8080/",
          "height": 34
        }
      },
      "source": [
        "%%writefile app.py\n",
        "import streamlit as st\n",
        "import streamlit.components.v1 as components\n",
        "import numpy as np\n",
        "import pandas as pd\n",
        "import seaborn as sns\n",
        "import matplotlib\n",
        "import matplotlib.pyplot as plt\n",
        "\n",
        "from sklearn.model_selection import train_test_split\n",
        "from sklearn.tree import DecisionTreeClassifier\n",
        "from sklearn.naive_bayes import GaussianNB\n",
        "from sklearn.svm import SVC\n",
        "from sklearn.neighbors import KNeighborsClassifier\n",
        "from sklearn.linear_model import LogisticRegression\n",
        "from sklearn.ensemble import RandomForestClassifier\n",
        "from sklearn.metrics import accuracy_score\n",
        "from sklearn import model_selection\n",
        "\n",
        "matplotlib.use('Agg')\n",
        "\n",
        "# from PIL import Image\n",
        "\n",
        "st.set_option('deprecation.showfileUploaderEncoding', False)\n",
        "\n",
        "# image = Image.open('./media/logo.png')\n",
        "# st.image(image,use_column_width=False,width=60,height=60)\n",
        "\n",
        "st.subheader('Galaxer Data Science')\n",
        "\n",
        "\n",
        "def main():\n",
        "    \n",
        "    activities=['Home', 'EDA', 'Visualization', 'Model', 'About Us']\n",
        "    option=st.sidebar.selectbox('Selection option:', activities)\n",
        "\n",
        "\n",
        "    if option == 'Home':\n",
        "        st.subheader(\"\")\n",
        "\n",
        "\n",
        "    # EDA - Exploratory Data Analysis\n",
        "    elif option == 'EDA':\n",
        "        st.subheader(\"Exploratory Data Analysis\")\n",
        "\n",
        "        data = st.file_uploader(\"Upload dataset:\", type=['csv', 'xlsx','txt', 'json'])\n",
        "        # st.success(\"Data successfully loaded\")\n",
        "\n",
        "        if data is not None:\n",
        "            st.success(\"Data successfully loaded\")\n",
        "            df = pd.read_csv(data)\n",
        "            st.dataframe(df.head(20))\n",
        "\n",
        "            if st.checkbox(\"Display shape\"):\n",
        "                st.write(df.shape)\n",
        "            if st.checkbox(\"Display Columns\"):\n",
        "                st.write(df.columns)\n",
        "            if st.checkbox(\"Select Multiple Columns\"):\n",
        "                selected_columns = st.multiselect(\"Select preference\", df.columns)\n",
        "                df1 = df[selected_columns]\n",
        "                st.dataframe(df1)\n",
        "\n",
        "            if st.checkbox(\"Display Summary\"):\n",
        "                st.write(df1.describe().T)\n",
        "\n",
        "            if st.checkbox(\"Display Null Values\"):\n",
        "                st.write(df.isnull().sum())\n",
        "\n",
        "            if st.checkbox(\"Display the data types\"):\n",
        "                st.write(df.dtypes)\n",
        "            if st.checkbox(\"Display Correlation of various data columns\"):\n",
        "                st.write(df.corr())\n",
        "\n",
        "\n",
        "    # Data Visualization\n",
        "    elif option == 'Visualization':\n",
        "        st.subheader(\"Data Visualization\")\n",
        "\n",
        "        data = st.file_uploader(\"Upload dataset:\", type=['csv', 'xlsx','txt', 'json'])\n",
        "        if data is not None:\n",
        "            st.success(\"Data successfully loaded\")\n",
        "            df = pd.read_csv(data)\n",
        "            st.dataframe(df.head(20))\n",
        "\n",
        "            if st.checkbox('Select Multiple columns to plot'):\n",
        "                selected_columns = st.multiselect('Select your prefered columns', df.columns)\n",
        "                df1 = df[selected_columns]\n",
        "                st.dataframe(df1)\n",
        "\n",
        "            if st.checkbox('Display Heatmap'):\n",
        "                st.write(sns.heatmap(df1.corr(), vmax=1, square=True, annot=True, cmap='viridis'))\n",
        "                st.pyplot()\n",
        "            if st.checkbox('Display Pairplot'):\n",
        "                st.write(sns.pairplot(df1, diag_kind='kde'))\n",
        "            #                 >>> fig, ax = plt.subplots()\n",
        "            # >>> ax.scatter([1, 2, 3], [1, 2, 3])\n",
        "            # >>>    ... other plotting actions ...\n",
        "            # >>> st.pyplot(fig)\n",
        "                st.pyplot\n",
        "            if st.checkbox('Display Pie Chart'):\n",
        "                all_columns = df.columns.to_list()\n",
        "                pie_columns = st.selectbox('Select column to dispaly', all_columns)\n",
        "                pieChart = df[pie_columns].value_counts().plot.pie(autopct='%1.1f%%')\n",
        "                st.write(pieChart)\n",
        "                st.pyplot()\n",
        "\n",
        "\n",
        "    # Model Building\n",
        "    elif option == 'Model':\n",
        "        st.subheader(\"Model Building\")\n",
        "\n",
        "        data = st.file_uploader(\"Upload dataset:\", type=['csv', 'xlsx','txt', 'json'])\n",
        "        if data is not None:\n",
        "            st.success(\"Data successfully loaded\")\n",
        "            df = pd.read_csv(data)\n",
        "            st.dataframe(df.head(50))\n",
        "\n",
        "            # if st.checkbox('Select Multiple columns to plot'):\n",
        "            #     selected_columns = st.multiselect('Select your prefered columns', df.columns)\n",
        "            #     df1 = df[selected_columns]\n",
        "            #     st.dataframe(df1)\n",
        "\n",
        "            if st.checkbox('Select Multiple columns'):\n",
        "                new_data = st.multiselect('Select your prefered columns. NB: Let your target variable be the last column', df.columns)\n",
        "                df1 = df[new_data]\n",
        "                st.dataframe(df1)\n",
        "\n",
        "                # Dividing data into X and y variables\n",
        "\n",
        "                X = df1.iloc[:.0:-1]\n",
        "                y = df1.iloc[:,-1]\n",
        "\n",
        "            seed = st.sidebar.slider('Seed', 1, 200)\n",
        "\n",
        "            classifier_name = st.sidebar.selectbox('Select your prefered classifier', ('KNN', 'SVM', 'LR', 'Naive_Bayes', 'Decision Tree', 'Random Forest'))\n",
        "\n",
        "            def add_parameter(name_of_clf):\n",
        "                params = dict()\n",
        "                if name_of_clf == 'SVM':\n",
        "                    C = st.sidebar.slider('C', 0.01, 15.0)\n",
        "                    params['C'] = C\n",
        "                else:\n",
        "                    name_of_clf == 'KNN'\n",
        "                    K = st.sidebar.slider('K', 1, 15)\n",
        "                    params['K'] = K\n",
        "                    return params\n",
        "\n",
        "            params = add_parameter(classifier_name)\n",
        "\n",
        "            # Define a function tor the classifiers\n",
        "            def get_classifier(name_of_clf, params):\n",
        "                clf = None\n",
        "                if name_of_clf == 'SVM':\n",
        "                    clf = SVC(C=params['C'])\n",
        "                elif name_of_clf == 'KNN':\n",
        "                    clf = KNeighborsClassifier(n_neighbors=params['K'])\n",
        "                elif name_of_clf == 'LR':\n",
        "                    clf == LogisticRegression()\n",
        "                elif name_of_clf == 'Naive_Bayes':\n",
        "                    clf = GaussianNB()\n",
        "                elif name_of_clf == 'Decision Tree':\n",
        "                    clf == DecisionTreeClassifier()\n",
        "                elif name_of_clf == 'Random Forest':\n",
        "                    clf == RandomForestClassifier()\n",
        "                else:\n",
        "                    st.warning('Select your choice of algorithm!')\n",
        "\n",
        "                    return clf\n",
        "\n",
        "            clf = get_classifier(classifier_name, params)\n",
        "\n",
        "            X_train, X_test, y_train, y_test = train_test_split(X, y, test_size=0.2, random_state=seed)\n",
        "\n",
        "            clf.fit(X_train, y_train)\n",
        "\n",
        "            y_prod = clf.predict(X_test)\n",
        "            st.write('Predictions', y_prod)\n",
        "\n",
        "            acuuracy = accuracy_score(y_test, y_pred)\n",
        "\n",
        "            st.write('Name of Classifier: ', classifier_name)\n",
        "            st.write('Accuracy: ', accuracy)\n",
        "\n",
        "\n",
        "\n",
        "    elif option == 'About Us':\n",
        "        st.subheader('About Us')\n",
        "        '''\n",
        "            \n",
        "            This is an interactive web page for our ML project, feel free to use it. The datasets are fetched from UCI machine learning repository.\n",
        "            The analysis in here is to demonstrate how we can present our work to our stakeholders in an interactive way\n",
        "            by building a web app for our machine learning algorithm using diferrent datasets\n",
        "        '''\n",
        "\n",
        "        st.balloons()\n",
        "\n",
        "\n",
        "\n",
        "\n",
        "if __name__ == '__main__':\n",
        "    main()\n"
      ],
      "execution_count": 50,
      "outputs": [
        {
          "output_type": "stream",
          "text": [
            "Overwriting app.py\n"
          ],
          "name": "stdout"
        }
      ]
    },
    {
      "cell_type": "code",
      "metadata": {
        "id": "St29FI1Y2qm_",
        "outputId": "768c15a5-562a-4f29-a8a3-89ccf3f18f6e",
        "colab": {
          "base_uri": "https://localhost:8080/",
          "height": 34
        }
      },
      "source": [
        "!ls"
      ],
      "execution_count": 34,
      "outputs": [
        {
          "output_type": "stream",
          "text": [
            "app.py\tsample_data\n"
          ],
          "name": "stdout"
        }
      ]
    },
    {
      "cell_type": "code",
      "metadata": {
        "id": "5_FG6iM82q8E",
        "outputId": "f81ea9ae-e6af-45ee-9aaf-a3b961c1e780",
        "colab": {
          "base_uri": "https://localhost:8080/",
          "height": 34
        }
      },
      "source": [
        "!ngrok authtoken 1iVFNceiOYs6PP0VAIJgdktetio_5qWxix3dLLsdFKptGsQs5"
      ],
      "execution_count": 35,
      "outputs": [
        {
          "output_type": "stream",
          "text": [
            "Authtoken saved to configuration file: /root/.ngrok2/ngrok.yml\n"
          ],
          "name": "stdout"
        }
      ]
    },
    {
      "cell_type": "code",
      "metadata": {
        "id": "rWR1tNI-1EQp"
      },
      "source": [
        "from pyngrok import ngrok"
      ],
      "execution_count": 36,
      "outputs": []
    },
    {
      "cell_type": "code",
      "metadata": {
        "id": "741CnqmJ_ERn"
      },
      "source": [
        "!streamlit run app.py&>/dev/null&"
      ],
      "execution_count": 37,
      "outputs": []
    },
    {
      "cell_type": "code",
      "metadata": {
        "id": "Visv3zaU_pH2",
        "outputId": "820e65c6-f2a8-4047-b2c5-e92fcac269c2",
        "colab": {
          "base_uri": "https://localhost:8080/",
          "height": 34
        }
      },
      "source": [
        "!pgrep streamlit"
      ],
      "execution_count": 38,
      "outputs": [
        {
          "output_type": "stream",
          "text": [
            "607\n"
          ],
          "name": "stdout"
        }
      ]
    },
    {
      "cell_type": "code",
      "metadata": {
        "id": "a6rgl_NS1_HB",
        "outputId": "39cd9fc5-3ce9-420c-9830-cd6fc43b8c6c",
        "colab": {
          "base_uri": "https://localhost:8080/",
          "height": 173
        }
      },
      "source": [
        "publ_url = ngrok.connect(port='8501')"
      ],
      "execution_count": 39,
      "outputs": [
        {
          "output_type": "stream",
          "text": [
            "2020-10-15 18:29:32.420 INFO    pyngrok.process.ngrok: t=2020-10-15T18:29:32+0000 lvl=info msg=start pg=/api/tunnels id=793a25a003ad574a\n",
            "2020-10-15 18:29:32.798 INFO    pyngrok.process.ngrok: t=2020-10-15T18:29:32+0000 lvl=info msg=\"started tunnel\" obj=tunnels name=\"http-8501-fabe989d-662b-4a36-843f-5a03c4be9f54 (http)\" addr=http://localhost:8501 url=http://653ceb3e3b1a.ngrok.io\n",
            "2020-10-15 18:29:32.800 INFO    pyngrok.process.ngrok: t=2020-10-15T18:29:32+0000 lvl=info msg=\"started tunnel\" obj=tunnels name=http-8501-fabe989d-662b-4a36-843f-5a03c4be9f54 addr=http://localhost:8501 url=https://653ceb3e3b1a.ngrok.io\n",
            "2020-10-15 18:29:32.802 INFO    pyngrok.process.ngrok: t=2020-10-15T18:29:32+0000 lvl=info msg=end pg=/api/tunnels id=793a25a003ad574a status=201 dur=378.325174ms\n",
            "2020-10-15 18:29:32.804 INFO    pyngrok.process.ngrok: t=2020-10-15T18:29:32+0000 lvl=info msg=start pg=\"/api/tunnels/http-8501-fabe989d-662b-4a36-843f-5a03c4be9f54 (http)\" id=4b9996b20f8fe88c\n",
            "2020-10-15 18:29:32.805 INFO    pyngrok.process.ngrok: t=2020-10-15T18:29:32+0000 lvl=info msg=end pg=\"/api/tunnels/http-8501-fabe989d-662b-4a36-843f-5a03c4be9f54 (http)\" id=4b9996b20f8fe88c status=200 dur=226.191µs\n",
            "/usr/local/lib/python3.6/dist-packages/ipykernel_launcher.py:1: DeprecationWarning: Support for \"return_ngrok_tunnel\" as \"False\" is deprecated and will be removed in 5.0.0, when this method will return a NgrokTunnel instead of a str\n",
            "  \"\"\"Entry point for launching an IPython kernel.\n"
          ],
          "name": "stderr"
        }
      ]
    },
    {
      "cell_type": "code",
      "metadata": {
        "id": "xTa-zM0P2QFt",
        "outputId": "65b3d7a1-8707-4de0-9bda-1aeb76601c8a",
        "colab": {
          "base_uri": "https://localhost:8080/",
          "height": 35
        }
      },
      "source": [
        "publ_url"
      ],
      "execution_count": 40,
      "outputs": [
        {
          "output_type": "execute_result",
          "data": {
            "application/vnd.google.colaboratory.intrinsic+json": {
              "type": "string"
            },
            "text/plain": [
              "'http://653ceb3e3b1a.ngrok.io'"
            ]
          },
          "metadata": {
            "tags": []
          },
          "execution_count": 40
        }
      ]
    },
    {
      "cell_type": "code",
      "metadata": {
        "id": "6rA12VsSAGm0"
      },
      "source": [
        ""
      ],
      "execution_count": null,
      "outputs": []
    }
  ]
}